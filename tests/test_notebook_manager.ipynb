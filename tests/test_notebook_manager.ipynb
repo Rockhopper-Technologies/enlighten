{
 "cells": [
  {
   "cell_type": "code",
   "execution_count": null,
   "metadata": {},
   "outputs": [],
   "source": [
    "\"\"\"\n",
    "Notebook for testing NotebookManager\n",
    "\"\"\"\n",
    "\n",
    "# Setup\n",
    "import sys\n",
    "import os\n",
    "\n",
    "import coverage\n",
    "\n",
    "# Set path so this works for running live\n",
    "cwd = os.getcwd()\n",
    "if os.path.basename(cwd) == 'tests':\n",
    "    project_dir = os.path.dirname(cwd)\n",
    "    sys.path.insert(1, project_dir)\n",
    "else:\n",
    "    project_dir = cwd\n",
    "\n",
    "# Start coverage, should be before imports\n",
    "cov = coverage.Coverage(\n",
    "    data_file=os.path.join(project_dir, '.coverage.notebook'),\n",
    "    config_file=os.path.join(project_dir, 'setup.cfg')\n",
    ")\n",
    "cov.start()\n",
    "\n",
    "# pylint: disable=wrong-import-position\n",
    "from enlighten import get_manager, NotebookManager  # noqa: E402"
   ]
  },
  {
   "cell_type": "code",
   "execution_count": null,
   "metadata": {},
   "outputs": [],
   "source": [
    "# test_get_manager\n",
    "# Test we get the right manager when running in a notebook\n",
    "manager = get_manager()\n",
    "assert isinstance(manager, NotebookManager)\n",
    "assert repr(manager) == 'NotebookManager()'"
   ]
  },
  {
   "cell_type": "code",
   "execution_count": null,
   "metadata": {},
   "outputs": [],
   "source": [
    "# test_standard\n",
    "# Test standard manager\n",
    "manager = NotebookManager()\n",
    "ctr = manager.counter(total=100)\n",
    "ctr.update(force=True)\n",
    "manager.stop()"
   ]
  },
  {
   "cell_type": "code",
   "execution_count": null,
   "metadata": {},
   "outputs": [],
   "source": [
    "# test_disabled\n",
    "# Test manager disabled\n",
    "manager = NotebookManager(enabled=False)\n",
    "ctr = manager.counter(total=100)\n",
    "ctr.update(force=True)\n",
    "manager.write('We should never see this')\n",
    "manager.stop()"
   ]
  },
  {
   "cell_type": "code",
   "execution_count": null,
   "metadata": {
    "scrolled": true
   },
   "outputs": [],
   "source": [
    "# test_bare_no_flush\n",
    "# Test write bare message, no flush\n",
    "\n",
    "manager = NotebookManager()\n",
    "manager.write('test message', flush=False)\n",
    "# pylint: disable=protected-access\n",
    "assert manager._output[0] == '  <div class=\"enlighten-bar\">\\n    <pre>test message</pre>\\n  </div>'"
   ]
  },
  {
   "cell_type": "code",
   "execution_count": null,
   "metadata": {},
   "outputs": [],
   "source": [
    "# test_advanced\n",
    "# More advanced use case\n",
    "manager = NotebookManager()\n",
    "\n",
    "ticks = manager.counter(total=10, desc='Ticks', unit='ticks', color='red', min_delta=0)\n",
    "tocks = manager.counter(total=5, desc='Tocks', unit='tocks', color='blue', position=3, min_delta=0)\n",
    "\n",
    "for num in range(10):\n",
    "    ticks.update()\n",
    "    if not num % 2:\n",
    "        tocks.update()\n",
    "manager.stop()"
   ]
  },
  {
   "cell_type": "code",
   "execution_count": null,
   "metadata": {},
   "outputs": [],
   "source": [
    "# test_styles\n",
    "# Styles converted to HTML\n",
    "manager = NotebookManager()\n",
    "term = manager.term\n",
    "\n",
    "status = manager.status_bar(' '.join((\n",
    "    'normal',\n",
    "    term.blue_on_aquamarine('blue_on_aquamarine'),\n",
    "    term.aquamarine_on_blue('aquamarine_on_blue'),\n",
    "    term.color(90)('color_90'),\n",
    "    term.on_color(90)('on_color_90'),\n",
    "    term.italic_bright_red('italics_red'),\n",
    "    term.on_bright_blue('on_bright_blue'),\n",
    "    term.blink('blink'),\n",
    "    term.bold('bold'),\n",
    "    term.bold(''),  # Empty span will be ignored\n",
    "    term.underline('underline'),\n",
    "    term.reverse('unsupported_reverse'),\n",
    "    term.move(5, 6) + 'unsupported_move',\n",
    "    term.normal + 'ignore_unmatched_normal',\n",
    "    term.link('https://pypi.org/project/enlighten/', 'enlighten'),\n",
    ")))"
   ]
  },
  {
   "cell_type": "code",
   "execution_count": null,
   "metadata": {},
   "outputs": [],
   "source": [
    "# test_stop_no_counters\n",
    "# Test stop succeeds when there are no counters\n",
    "manager = NotebookManager()\n",
    "manager.stop()"
   ]
  },
  {
   "cell_type": "code",
   "execution_count": null,
   "metadata": {},
   "outputs": [],
   "source": [
    "# Cleanup\n",
    "cov.stop()\n",
    "cov.save()"
   ]
  }
 ],
 "metadata": {
  "kernelspec": {
   "display_name": "Python 3",
   "language": "python",
   "name": "python3"
  },
  "language_info": {
   "codemirror_mode": {
    "name": "ipython",
    "version": 3
   },
   "file_extension": ".py",
   "mimetype": "text/x-python",
   "name": "python",
   "nbconvert_exporter": "python",
   "pygments_lexer": "ipython3",
   "version": "3.13.0"
  },
  "vscode": {
   "interpreter": {
    "hash": "e7370f93d1d0cde622a1f8e1c04877d8463912d04d973331ad4851f04de6915a"
   }
  }
 },
 "nbformat": 4,
 "nbformat_minor": 4
}
